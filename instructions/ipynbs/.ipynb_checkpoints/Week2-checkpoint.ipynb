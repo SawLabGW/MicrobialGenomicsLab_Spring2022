{
 "cells": [
  {
   "cell_type": "markdown",
   "metadata": {},
   "source": [
    "# Week 2"
   ]
  },
  {
   "cell_type": "markdown",
   "metadata": {},
   "source": [
    "## Agenda for (09/09/2020)\n",
    "\n",
    "  - Introduction to sequencing technologies and bioinformatic tools\n",
    "  - Troubleshoot `conda` and `jupyter-lab` related issues\n",
    "  - Go over why we use `pandoc` in this course\n",
    "  - Brief introduction to Markdown\n",
    "  - Install some necessary tools using `conda`:\n",
    "    - sra-tools\n",
    "    - fastqc\n",
    "    - bbmap\n",
    "  - Group activity to download and test tools with sample datasets\n",
    "\n",
    "\n",
    "  - Assignments:\n",
    "    - Assignment 2\n",
    "    - Reading assignments"
   ]
  },
  {
   "cell_type": "markdown",
   "metadata": {},
   "source": [
    "## Introduction to sequencing technologies and bioinformatic tools"
   ]
  },
  {
   "cell_type": "markdown",
   "metadata": {},
   "source": [
    "Due to a medical emergency that I had to attend to urgently, I will have to cancel in-person class today and will not be able to present a Powerpoint lecture. I will upload a narrated Powerpoint once I've recovered from the condition. \n",
    "\n",
    "However, I would still like everyone to be in class to work on the exercises I have designed for today's lab. You should join Blackboard collaborate ultra at this link: https://us.bbcollab.com/guest/96dd52b46bca41e1951bbc3973bafbed\n",
    "\n",
    "Because I will not be available in person today, I would like all of you to at least get together and solve the problems collaboratively using Blackboard collaborate as a platform to communicate. "
   ]
  },
  {
   "cell_type": "markdown",
   "metadata": {},
   "source": [
    "## Troubleshoot `conda` and `jupyter-lab` related issues"
   ]
  },
  {
   "cell_type": "markdown",
   "metadata": {},
   "source": [
    "Due to my absence, I won't be able to help you to solve issues related to installation, configuration, and running of `conda` and `jupyter-lab`. I belive most people have solved this issue. But if problems still persist, you should talk to each other to figure things out. I will be available during office hours (hopefully by next week) to help you if you still have issues with it."
   ]
  },
  {
   "cell_type": "code",
   "execution_count": null,
   "metadata": {},
   "outputs": [],
   "source": []
  }
 ],
 "metadata": {
  "kernelspec": {
   "display_name": "Python 3",
   "language": "python",
   "name": "python3"
  },
  "language_info": {
   "codemirror_mode": {
    "name": "ipython",
    "version": 3
   },
   "file_extension": ".py",
   "mimetype": "text/x-python",
   "name": "python",
   "nbconvert_exporter": "python",
   "pygments_lexer": "ipython3",
   "version": "3.7.8"
  }
 },
 "nbformat": 4,
 "nbformat_minor": 4
}
