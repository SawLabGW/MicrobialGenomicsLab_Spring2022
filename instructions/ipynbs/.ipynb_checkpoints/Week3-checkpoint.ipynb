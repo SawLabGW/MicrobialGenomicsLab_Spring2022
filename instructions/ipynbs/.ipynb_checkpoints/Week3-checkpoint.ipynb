{
 "cells": [
  {
   "cell_type": "markdown",
   "metadata": {},
   "source": [
    "# Week 3"
   ]
  },
  {
   "cell_type": "markdown",
   "metadata": {},
   "source": [
    "## Agenda for (09/16/2020)\n",
    "\n",
    "  - Introduction to sequence assembly and genome assemblers (**postponed till 09/23/20**)\n",
    "  - Introduction to HPC resources at GW by Glen MacLachlan (**postponed till 09/23/20**)\n",
    "  - Lab exercises\n",
    "    - microbial genome assembly using SPAdes\n",
    "    - obtain assembly metrics using Quast\n",
    "    - metagenome assembly using Megahit (**postponed till 09/23/20**)\n",
    "\n",
    "  - Assignments\n",
    "    - Assignment 3\n",
    "    - Reading assignments"
   ]
  },
  {
   "cell_type": "markdown",
   "metadata": {},
   "source": [
    "I have originally planned the above for class on 09/16/2020 but due to medical emergency, I had to cancel it. Lecture and some exercises planned for that day will instead be done on 09/23/20. However, I have uploaded instructions for microbial genome assembly using SPAdes and how to check assembly qualities using Quast. \n",
    "\n",
    "You should try to go through the exercise on your own before the class on 09/23/20."
   ]
  }
 ],
 "metadata": {
  "kernelspec": {
   "display_name": "Python 3",
   "language": "python",
   "name": "python3"
  },
  "language_info": {
   "codemirror_mode": {
    "name": "ipython",
    "version": 3
   },
   "file_extension": ".py",
   "mimetype": "text/x-python",
   "name": "python",
   "nbconvert_exporter": "python",
   "pygments_lexer": "ipython3",
   "version": "3.7.8"
  }
 },
 "nbformat": 4,
 "nbformat_minor": 4
}
