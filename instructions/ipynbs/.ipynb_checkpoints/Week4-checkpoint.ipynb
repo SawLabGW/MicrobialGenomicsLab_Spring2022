{
 "cells": [
  {
   "cell_type": "markdown",
   "metadata": {},
   "source": [
    "## Week 4"
   ]
  },
  {
   "cell_type": "markdown",
   "metadata": {},
   "source": [
    "### Agenda for (09/23/2020)\n",
    "\n",
    "  - Introduction to sequence assembly and genome assemblers\n",
    "  - Introduction to HPC resources at GW by Glen MacLachlan\n",
    "  - Lab exercises\n",
    "    - using Python virtual environments\n",
    "    - connecting to and working remotely on `cerberus`\n",
    "    - install Miniconda and Bioconda on `cerberus`\n",
    "    - microbial genome assembly using SPAdes\n",
    "    - obtain assembly metrics using Quast\n",
    "    - visualization of assemblies using Bandage\n",
    "    - transfer metagenomic data to `cerberus` for next week\n",
    "\n",
    "  - Assignments\n",
    "    - Assignment 3\n",
    "    - Reading assignments"
   ]
  }
 ],
 "metadata": {
  "kernelspec": {
   "display_name": "Python 3",
   "language": "python",
   "name": "python3"
  },
  "language_info": {
   "codemirror_mode": {
    "name": "ipython",
    "version": 3
   },
   "file_extension": ".py",
   "mimetype": "text/x-python",
   "name": "python",
   "nbconvert_exporter": "python",
   "pygments_lexer": "ipython3",
   "version": "3.7.8"
  }
 },
 "nbformat": 4,
 "nbformat_minor": 4
}
