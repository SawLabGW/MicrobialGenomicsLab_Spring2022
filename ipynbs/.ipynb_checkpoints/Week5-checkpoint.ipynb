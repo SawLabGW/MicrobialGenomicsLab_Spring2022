{
 "cells": [
  {
   "cell_type": "markdown",
   "metadata": {},
   "source": [
    "## Week 5"
   ]
  },
  {
   "cell_type": "markdown",
   "metadata": {},
   "source": [
    "### Agenda for (09/30/2020)"
   ]
  },
  {
   "cell_type": "markdown",
   "metadata": {},
   "source": [
    "- Lecture (Metagenomics and uncovering the hidden microbial majority)\n",
    "- Lab exercises\n",
    "  - Recap job submission on `cerberus`\n",
    "  - Install tools needed for today on `cerberus`\n",
    "  - Run Megahit metagenomic assembly on `cerberus`\n",
    "  - Run metaSPAdes metagenomic assembly on `cerberus`\n",
    "  - Download data for unicycler assembly\n",
    "  - Run unicycler assembly on `cerberus`\n",
    "  - Run Quast on metaSPAdes and Megahit assemblies on your own after class\n",
    "  - Run Metabat2 on your own after class\n",
    "  - Run CheckM on your own after class\n",
    "  - Run RefineM on your own after class"
   ]
  }
 ],
 "metadata": {
  "kernelspec": {
   "display_name": "Python 3",
   "language": "python",
   "name": "python3"
  },
  "language_info": {
   "codemirror_mode": {
    "name": "ipython",
    "version": 3
   },
   "file_extension": ".py",
   "mimetype": "text/x-python",
   "name": "python",
   "nbconvert_exporter": "python",
   "pygments_lexer": "ipython3",
   "version": "3.7.8"
  }
 },
 "nbformat": 4,
 "nbformat_minor": 4
}
